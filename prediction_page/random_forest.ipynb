{
 "cells": [
  {
   "cell_type": "code",
   "execution_count": null,
   "id": "f076a974-5d69-4e4b-bc13-0c8a12c36787",
   "metadata": {},
   "outputs": [],
   "source": [
    "import pandas as pd\n",
    "from sklearn.model_selection import train_test_split\n",
    "from sklearn.ensemble import RandomForestClassifier\n",
    "from sklearn.metrics import accuracy_score, classification_report\n",
    "from sklearn.preprocessing import LabelEncoder"
   ]
  },
  {
   "cell_type": "code",
   "execution_count": null,
   "id": "4e039c57-75ec-4fc0-a901-1bea518cf83f",
   "metadata": {},
   "outputs": [],
   "source": [
    "data = pd.read_csv('C:\\\\Users\\\\Rushil\\\\Desktop\\\\Hackathon\\\\predictionpage\\\\Training.csv')"
   ]
  },
  {
   "cell_type": "code",
   "execution_count": null,
   "id": "f2e13b48-d1ab-4080-93a1-e2f0817a416c",
   "metadata": {},
   "outputs": [],
   "source": [
    "X = data.iloc[:, :-2]\n",
    "y = data['prognosis']"
   ]
  },
  {
   "cell_type": "code",
   "execution_count": null,
   "id": "86a50576-4ecf-4334-98e9-327cb9f1d51b",
   "metadata": {},
   "outputs": [],
   "source": [
    "label_encoder = LabelEncoder()\n",
    "encoded_labels = label_encoder.fit_transform(y)"
   ]
  },
  {
   "cell_type": "code",
   "execution_count": null,
   "id": "095417f0-22c8-4ac4-ba41-2f5ee123175a",
   "metadata": {},
   "outputs": [],
   "source": [
    "X_train, X_test, encoded_labels_train, encoded_labels_test = train_test_split(X, encoded_labels, test_size=0.3, random_state=42)"
   ]
  },
  {
   "cell_type": "code",
   "execution_count": null,
   "id": "456a2b74-7b93-4ab7-bea6-565978ed9b9d",
   "metadata": {},
   "outputs": [],
   "source": [
    "rf_classifier = RandomForestClassifier(n_estimators=100, random_state=42)\n",
    "rf_classifier.fit(X_train, encoded_labels_train)"
   ]
  },
  {
   "cell_type": "code",
   "execution_count": null,
   "id": "06dcf5bf-9b79-4e52-974b-348d63bae3db",
   "metadata": {},
   "outputs": [],
   "source": [
    "encoded_pred=rf_classifier.predict(X_test)"
   ]
  },
  {
   "cell_type": "code",
   "execution_count": null,
   "id": "ee1d1525-1826-43ed-88b1-6d96c7932c97",
   "metadata": {},
   "outputs": [],
   "source": [
    "accuracy = accuracy_score(encoded_labels_test, encoded_pred)\n",
    "print(f'Accuracy: {accuracy:.2f}')\n",
    "classification_rep = classification_report(encoded_labels_test, encoded_pred)\n",
    "print(\"Classification Report:\\n\", classification_rep)"
   ]
  },
  {
   "cell_type": "code",
   "execution_count": null,
   "id": "baf80afb-5ac1-4095-b1b8-d37e6027c3d3",
   "metadata": {},
   "outputs": [],
   "source": [
    "import pickle"
   ]
  },
  {
   "cell_type": "code",
   "execution_count": null,
   "id": "527d2d1a-fee2-42e5-97af-0db56ef46a0b",
   "metadata": {},
   "outputs": [],
   "source": [
    "filename='trained_model.sav'\n",
    "pickle.dump(rf_classifier,open(filename,'wb'))"
   ]
  },
  {
   "cell_type": "code",
   "execution_count": null,
   "id": "da442a2f-71fc-4309-9341-df81bfe10246",
   "metadata": {},
   "outputs": [],
   "source": [
    "loaded_model=pickle.load(open('trained_model.sav','rb'))"
   ]
  },
  {
   "cell_type": "code",
   "execution_count": null,
   "id": "a51eb50a-5ebf-492f-b9eb-6254e90e5233",
   "metadata": {},
   "outputs": [],
   "source": [
    "input_data=[0,0,0,0,0,0,0,0,0,0,0,1,0,0,0,0,0,0,0,0,0,0,0,0,0,0,0,0,0,0,0,1,0,0,0,0,0,0,0,0,0,0,0,0,0,0,0,0,0,0,0,0,0,0,0,0,0,0,0,0,0,0,0,0,0,0,0,0,0,0,0,0,0,0,0,0,0,0,0,0,0,0,0,0,0,0,0,1,0,0,0,0,0,0,0,0,0,0,1,0,0,0,0,0,0,0,0,0,0,0,0,0,0,0,0,0,0,0,0,0,0,0,0,0,0,0,0,0,0,0,0,0]\n",
    "input_data=[input_data]\n",
    "predictions=loaded_model.predict(input_data)\n",
    "predicted_prognosis = label_encoder.inverse_transform(predictions)[0]"
   ]
  },
  {
   "cell_type": "code",
   "execution_count": null,
   "id": "bd800ad4-62cb-41dc-ad5f-a80577db4be9",
   "metadata": {},
   "outputs": [],
   "source": [
    "print(\"Predicted Prognosis:\", predicted_prognosis)"
   ]
  },
  {
   "cell_type": "code",
   "execution_count": null,
   "id": "adfec55c-2159-4cc8-b65b-634d28d45ed8",
   "metadata": {},
   "outputs": [],
   "source": []
  }
 ],
 "metadata": {
  "kernelspec": {
   "display_name": "Python 3 (ipykernel)",
   "language": "python",
   "name": "python3"
  },
  "language_info": {
   "codemirror_mode": {
    "name": "ipython",
    "version": 3
   },
   "file_extension": ".py",
   "mimetype": "text/x-python",
   "name": "python",
   "nbconvert_exporter": "python",
   "pygments_lexer": "ipython3",
   "version": "3.11.4"
  }
 },
 "nbformat": 4,
 "nbformat_minor": 5
}
